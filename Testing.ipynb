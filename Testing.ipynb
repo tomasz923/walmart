{
 "cells": [
  {
   "cell_type": "markdown",
   "id": "050ca693",
   "metadata": {},
   "source": [
    "### Trimmed mean"
   ]
  },
  {
   "cell_type": "code",
   "execution_count": 33,
   "id": "6f97477e",
   "metadata": {},
   "outputs": [
    {
     "ename": "SyntaxError",
     "evalue": "invalid syntax (3418234144.py, line 4)",
     "output_type": "error",
     "traceback": [
      "\u001b[1;36m  Input \u001b[1;32mIn [33]\u001b[1;36m\u001b[0m\n\u001b[1;33m    from statsmodels import robust.scale.mad\u001b[0m\n\u001b[1;37m                                  ^\u001b[0m\n\u001b[1;31mSyntaxError\u001b[0m\u001b[1;31m:\u001b[0m invalid syntax\n"
     ]
    }
   ],
   "source": [
    "import pandas as pd\n",
    "import numpy as np\n",
    "from scipy.stats import trim_mean\n",
    "#from statsmodels import robust.scale.mad MAD???"
   ]
  },
  {
   "cell_type": "code",
   "execution_count": 21,
   "id": "3ddb011c",
   "metadata": {},
   "outputs": [],
   "source": [
    "df = pd.read_csv(\"./data.csv\")"
   ]
  },
  {
   "cell_type": "code",
   "execution_count": 4,
   "id": "8efd790f",
   "metadata": {},
   "outputs": [
    {
     "name": "stdout",
     "output_type": "stream",
     "text": [
      "      Store        Date  Weekly_Sales  Holiday_Flag  Temperature  Fuel_Price  \\\n",
      "0         1  05-02-2010    1643690.90             0        42.31       2.572   \n",
      "1         1  12-02-2010    1641957.44             1        38.51       2.548   \n",
      "2         1  19-02-2010    1611968.17             0        39.93       2.514   \n",
      "3         1  26-02-2010    1409727.59             0        46.63       2.561   \n",
      "4         1  05-03-2010    1554806.68             0        46.50       2.625   \n",
      "...     ...         ...           ...           ...          ...         ...   \n",
      "6430     45  28-09-2012     713173.95             0        64.88       3.997   \n",
      "6431     45  05-10-2012     733455.07             0        64.89       3.985   \n",
      "6432     45  12-10-2012     734464.36             0        54.47       4.000   \n",
      "6433     45  19-10-2012     718125.53             0        56.47       3.969   \n",
      "6434     45  26-10-2012     760281.43             0        58.85       3.882   \n",
      "\n",
      "             CPI  Unemployment  \n",
      "0     211.096358         8.106  \n",
      "1     211.242170         8.106  \n",
      "2     211.289143         8.106  \n",
      "3     211.319643         8.106  \n",
      "4     211.350143         8.106  \n",
      "...          ...           ...  \n",
      "6430  192.013558         8.684  \n",
      "6431  192.170412         8.667  \n",
      "6432  192.327265         8.667  \n",
      "6433  192.330854         8.667  \n",
      "6434  192.308899         8.667  \n",
      "\n",
      "[6435 rows x 8 columns]\n"
     ]
    }
   ],
   "source": [
    "print(df)"
   ]
  },
  {
   "cell_type": "code",
   "execution_count": 42,
   "id": "9ba516ba",
   "metadata": {},
   "outputs": [
    {
     "data": {
      "text/html": [
       "<div>\n",
       "<style scoped>\n",
       "    .dataframe tbody tr th:only-of-type {\n",
       "        vertical-align: middle;\n",
       "    }\n",
       "\n",
       "    .dataframe tbody tr th {\n",
       "        vertical-align: top;\n",
       "    }\n",
       "\n",
       "    .dataframe thead th {\n",
       "        text-align: right;\n",
       "    }\n",
       "</style>\n",
       "<table border=\"1\" class=\"dataframe\">\n",
       "  <thead>\n",
       "    <tr style=\"text-align: right;\">\n",
       "      <th></th>\n",
       "      <th>Weekly_Sales</th>\n",
       "      <th>Holiday_Flag</th>\n",
       "      <th>Temperature</th>\n",
       "      <th>Fuel_Price</th>\n",
       "      <th>CPI</th>\n",
       "      <th>Unemployment</th>\n",
       "    </tr>\n",
       "  </thead>\n",
       "  <tbody>\n",
       "    <tr>\n",
       "      <th>count</th>\n",
       "      <td>6.435000e+03</td>\n",
       "      <td>6435.000000</td>\n",
       "      <td>6435.000000</td>\n",
       "      <td>6435.000000</td>\n",
       "      <td>6435.000000</td>\n",
       "      <td>6435.000000</td>\n",
       "    </tr>\n",
       "    <tr>\n",
       "      <th>mean</th>\n",
       "      <td>1.046965e+06</td>\n",
       "      <td>0.069930</td>\n",
       "      <td>60.663782</td>\n",
       "      <td>3.358607</td>\n",
       "      <td>171.578394</td>\n",
       "      <td>7.999151</td>\n",
       "    </tr>\n",
       "    <tr>\n",
       "      <th>std</th>\n",
       "      <td>5.643666e+05</td>\n",
       "      <td>0.255049</td>\n",
       "      <td>18.444933</td>\n",
       "      <td>0.459020</td>\n",
       "      <td>39.356712</td>\n",
       "      <td>1.875885</td>\n",
       "    </tr>\n",
       "    <tr>\n",
       "      <th>min</th>\n",
       "      <td>2.099862e+05</td>\n",
       "      <td>0.000000</td>\n",
       "      <td>-2.060000</td>\n",
       "      <td>2.472000</td>\n",
       "      <td>126.064000</td>\n",
       "      <td>3.879000</td>\n",
       "    </tr>\n",
       "    <tr>\n",
       "      <th>25%</th>\n",
       "      <td>5.533501e+05</td>\n",
       "      <td>0.000000</td>\n",
       "      <td>47.460000</td>\n",
       "      <td>2.933000</td>\n",
       "      <td>131.735000</td>\n",
       "      <td>6.891000</td>\n",
       "    </tr>\n",
       "    <tr>\n",
       "      <th>50%</th>\n",
       "      <td>9.607460e+05</td>\n",
       "      <td>0.000000</td>\n",
       "      <td>62.670000</td>\n",
       "      <td>3.445000</td>\n",
       "      <td>182.616521</td>\n",
       "      <td>7.874000</td>\n",
       "    </tr>\n",
       "    <tr>\n",
       "      <th>75%</th>\n",
       "      <td>1.420159e+06</td>\n",
       "      <td>0.000000</td>\n",
       "      <td>74.940000</td>\n",
       "      <td>3.735000</td>\n",
       "      <td>212.743293</td>\n",
       "      <td>8.622000</td>\n",
       "    </tr>\n",
       "    <tr>\n",
       "      <th>max</th>\n",
       "      <td>3.818686e+06</td>\n",
       "      <td>1.000000</td>\n",
       "      <td>100.140000</td>\n",
       "      <td>4.468000</td>\n",
       "      <td>227.232807</td>\n",
       "      <td>14.313000</td>\n",
       "    </tr>\n",
       "  </tbody>\n",
       "</table>\n",
       "</div>"
      ],
      "text/plain": [
       "       Weekly_Sales  Holiday_Flag  Temperature   Fuel_Price          CPI  \\\n",
       "count  6.435000e+03   6435.000000  6435.000000  6435.000000  6435.000000   \n",
       "mean   1.046965e+06      0.069930    60.663782     3.358607   171.578394   \n",
       "std    5.643666e+05      0.255049    18.444933     0.459020    39.356712   \n",
       "min    2.099862e+05      0.000000    -2.060000     2.472000   126.064000   \n",
       "25%    5.533501e+05      0.000000    47.460000     2.933000   131.735000   \n",
       "50%    9.607460e+05      0.000000    62.670000     3.445000   182.616521   \n",
       "75%    1.420159e+06      0.000000    74.940000     3.735000   212.743293   \n",
       "max    3.818686e+06      1.000000   100.140000     4.468000   227.232807   \n",
       "\n",
       "       Unemployment  \n",
       "count   6435.000000  \n",
       "mean       7.999151  \n",
       "std        1.875885  \n",
       "min        3.879000  \n",
       "25%        6.891000  \n",
       "50%        7.874000  \n",
       "75%        8.622000  \n",
       "max       14.313000  "
      ]
     },
     "execution_count": 42,
     "metadata": {},
     "output_type": "execute_result"
    }
   ],
   "source": [
    "#Finish slicing of this df and to the summary.\n",
    "df.iloc[:, 1:].describe()"
   ]
  },
  {
   "cell_type": "code",
   "execution_count": 14,
   "id": "66e1634b",
   "metadata": {},
   "outputs": [
    {
     "data": {
      "text/plain": [
       "pandas.core.frame.DataFrame"
      ]
     },
     "execution_count": 14,
     "metadata": {},
     "output_type": "execute_result"
    }
   ],
   "source": [
    "type(df)"
   ]
  },
  {
   "cell_type": "code",
   "execution_count": 24,
   "id": "16b2c023",
   "metadata": {},
   "outputs": [
    {
     "data": {
      "text/plain": [
       "1004198.0"
      ]
     },
     "execution_count": 24,
     "metadata": {},
     "output_type": "execute_result"
    }
   ],
   "source": [
    "trim_mean(df['Weekly_Sales'], 0.1).round()"
   ]
  },
  {
   "cell_type": "code",
   "execution_count": 31,
   "id": "74351335",
   "metadata": {},
   "outputs": [
    {
     "data": {
      "text/plain": [
       "1036016.9918773605"
      ]
     },
     "execution_count": 31,
     "metadata": {},
     "output_type": "execute_result"
    }
   ],
   "source": [
    "np.average(df['Weekly_Sales'], weights=df['Temperature'])"
   ]
  },
  {
   "cell_type": "code",
   "execution_count": 32,
   "id": "389de3de",
   "metadata": {},
   "outputs": [],
   "source": [
    "dfSales = df['Weekly_Sales']"
   ]
  },
  {
   "cell_type": "code",
   "execution_count": 39,
   "id": "61dcb69a",
   "metadata": {},
   "outputs": [
    {
     "name": "stdout",
     "output_type": "stream",
     "text": [
      "0       1643690.90\n",
      "1       1641957.44\n",
      "2       1611968.17\n",
      "3       1409727.59\n",
      "4       1554806.68\n",
      "           ...    \n",
      "6430     713173.95\n",
      "6431     733455.07\n",
      "6432     734464.36\n",
      "6433     718125.53\n",
      "6434     760281.43\n",
      "Name: Weekly_Sales, Length: 6435, dtype: float64\n"
     ]
    }
   ],
   "source": [
    "print(dfSales)"
   ]
  },
  {
   "cell_type": "code",
   "execution_count": 37,
   "id": "352ca267",
   "metadata": {},
   "outputs": [
    {
     "data": {
      "text/plain": [
       "553350.105"
      ]
     },
     "execution_count": 37,
     "metadata": {},
     "output_type": "execute_result"
    }
   ],
   "source": [
    "dfSales.quantile(0.75)"
   ]
  },
  {
   "cell_type": "code",
   "execution_count": 38,
   "id": "5c78412e",
   "metadata": {},
   "outputs": [
    {
     "data": {
      "text/plain": [
       "553350.105"
      ]
     },
     "execution_count": 38,
     "metadata": {},
     "output_type": "execute_result"
    }
   ],
   "source": [
    "dfSales.quantile(0.25)"
   ]
  },
  {
   "cell_type": "code",
   "execution_count": null,
   "id": "27531d0f",
   "metadata": {},
   "outputs": [],
   "source": []
  }
 ],
 "metadata": {
  "kernelspec": {
   "display_name": "Python 3 (ipykernel)",
   "language": "python",
   "name": "python3"
  },
  "language_info": {
   "codemirror_mode": {
    "name": "ipython",
    "version": 3
   },
   "file_extension": ".py",
   "mimetype": "text/x-python",
   "name": "python",
   "nbconvert_exporter": "python",
   "pygments_lexer": "ipython3",
   "version": "3.9.12"
  }
 },
 "nbformat": 4,
 "nbformat_minor": 5
}
