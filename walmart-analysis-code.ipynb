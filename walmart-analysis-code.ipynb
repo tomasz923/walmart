{
 "cells": [
  {
   "cell_type": "code",
   "execution_count": 30,
   "id": "2eab1d67",
   "metadata": {},
   "outputs": [],
   "source": [
    "#Importing all the necessary modules\n",
    "import numpy as np\n",
    "import pandas as pd \n",
    "import seaborn as sns\n",
    "import matplotlib.pyplot as plt\n",
    "from sklearn.metrics import mean_squared_error\n",
    "from sklearn.linear_model import LinearRegression\n",
    "from sklearn.model_selection import train_test_split\n",
    "from statsmodels.tsa.seasonal import seasonal_decompose\n",
    "from statsmodels.tsa.stattools import adfuller\n",
    "from statsmodels.tsa.arima.model import ARIMA\n",
    "from statsmodels.tsa.statespace.sarimax import SARIMAX"
   ]
  },
  {
   "cell_type": "code",
   "execution_count": 31,
   "id": "c29dde8d",
   "metadata": {},
   "outputs": [],
   "source": [
    "df = pd.read_csv(\"./data.csv\")"
   ]
  },
  {
   "cell_type": "markdown",
   "id": "d99b1563",
   "metadata": {},
   "source": [
    "# 1. Exploratory Data Analysis"
   ]
  },
  {
   "cell_type": "markdown",
   "id": "d09070ea",
   "metadata": {},
   "source": [
    "To make the summary more readible, let's measure weekly sales in thousands."
   ]
  },
  {
   "cell_type": "code",
   "execution_count": 32,
   "id": "dd094b99",
   "metadata": {
    "scrolled": false
   },
   "outputs": [
    {
     "name": "stdout",
     "output_type": "stream",
     "text": [
      "   Store        Date  Weekly_Sales  Holiday_Flag  Temperature  Fuel_Price  \\\n",
      "0      1  05-02-2010    1643690.90             0        42.31       2.572   \n",
      "1      1  12-02-2010    1641957.44             1        38.51       2.548   \n",
      "2      1  19-02-2010    1611968.17             0        39.93       2.514   \n",
      "3      1  26-02-2010    1409727.59             0        46.63       2.561   \n",
      "4      1  05-03-2010    1554806.68             0        46.50       2.625   \n",
      "\n",
      "          CPI  Unemployment  \n",
      "0  211.096358         8.106  \n",
      "1  211.242170         8.106  \n",
      "2  211.289143         8.106  \n",
      "3  211.319643         8.106  \n",
      "4  211.350143         8.106  \n"
     ]
    }
   ],
   "source": [
    "# Checking the first few rows of the dataset.\n",
    "print(df.head())"
   ]
  },
  {
   "cell_type": "markdown",
   "id": "3b34914c",
   "metadata": {},
   "source": [
    "\n",
    "\n",
    "**Description of the Columns:**\n",
    "\n",
    "*Store*: the number of the store (ID).\n",
    "\n",
    "*Date*: the week of sales.\n",
    "\n",
    "*Weekly_Sales*: the weekly sales for the given store.\n",
    "\n",
    "*Holiday_Flag*: whether the week is a special holiday week or not (1 = holiday week; 0 = non-holiday week).\n",
    "\n",
    "*Temperature*: an average temperature in the region for the given week.\n",
    "\n",
    "*Fuel_Price*: cost of fuel in the region for the given week.\n",
    "\n",
    "*CPI*: the consumer price index for the given week.\n",
    "\n",
    "*Unemployment*: the unemployment rate for the region for the given week.\n"
   ]
  },
  {
   "cell_type": "code",
   "execution_count": 33,
   "id": "c61ef670",
   "metadata": {},
   "outputs": [
    {
     "name": "stdout",
     "output_type": "stream",
     "text": [
      "Store           0\n",
      "Date            0\n",
      "Weekly_Sales    0\n",
      "Holiday_Flag    0\n",
      "Temperature     0\n",
      "Fuel_Price      0\n",
      "CPI             0\n",
      "Unemployment    0\n",
      "dtype: int64\n"
     ]
    }
   ],
   "source": [
    "# Checking for missing values.\n",
    "print(df.isnull().sum())"
   ]
  },
  {
   "cell_type": "code",
   "execution_count": 34,
   "id": "f3d8710a",
   "metadata": {},
   "outputs": [
    {
     "data": {
      "text/html": [
       "<div>\n",
       "<style scoped>\n",
       "    .dataframe tbody tr th:only-of-type {\n",
       "        vertical-align: middle;\n",
       "    }\n",
       "\n",
       "    .dataframe tbody tr th {\n",
       "        vertical-align: top;\n",
       "    }\n",
       "\n",
       "    .dataframe thead th {\n",
       "        text-align: right;\n",
       "    }\n",
       "</style>\n",
       "<table border=\"1\" class=\"dataframe\">\n",
       "  <thead>\n",
       "    <tr style=\"text-align: right;\">\n",
       "      <th></th>\n",
       "      <th>Weekly_Sales</th>\n",
       "      <th>Holiday_Flag</th>\n",
       "      <th>Temperature</th>\n",
       "      <th>Fuel_Price</th>\n",
       "      <th>CPI</th>\n",
       "      <th>Unemployment</th>\n",
       "    </tr>\n",
       "  </thead>\n",
       "  <tbody>\n",
       "    <tr>\n",
       "      <th>count</th>\n",
       "      <td>6.435000e+03</td>\n",
       "      <td>6435.000000</td>\n",
       "      <td>6435.000000</td>\n",
       "      <td>6435.000000</td>\n",
       "      <td>6435.000000</td>\n",
       "      <td>6435.000000</td>\n",
       "    </tr>\n",
       "    <tr>\n",
       "      <th>mean</th>\n",
       "      <td>1.046965e+06</td>\n",
       "      <td>0.069930</td>\n",
       "      <td>60.663782</td>\n",
       "      <td>3.358607</td>\n",
       "      <td>171.578394</td>\n",
       "      <td>7.999151</td>\n",
       "    </tr>\n",
       "    <tr>\n",
       "      <th>std</th>\n",
       "      <td>5.643666e+05</td>\n",
       "      <td>0.255049</td>\n",
       "      <td>18.444933</td>\n",
       "      <td>0.459020</td>\n",
       "      <td>39.356712</td>\n",
       "      <td>1.875885</td>\n",
       "    </tr>\n",
       "    <tr>\n",
       "      <th>min</th>\n",
       "      <td>2.099862e+05</td>\n",
       "      <td>0.000000</td>\n",
       "      <td>-2.060000</td>\n",
       "      <td>2.472000</td>\n",
       "      <td>126.064000</td>\n",
       "      <td>3.879000</td>\n",
       "    </tr>\n",
       "    <tr>\n",
       "      <th>25%</th>\n",
       "      <td>5.533501e+05</td>\n",
       "      <td>0.000000</td>\n",
       "      <td>47.460000</td>\n",
       "      <td>2.933000</td>\n",
       "      <td>131.735000</td>\n",
       "      <td>6.891000</td>\n",
       "    </tr>\n",
       "    <tr>\n",
       "      <th>50%</th>\n",
       "      <td>9.607460e+05</td>\n",
       "      <td>0.000000</td>\n",
       "      <td>62.670000</td>\n",
       "      <td>3.445000</td>\n",
       "      <td>182.616521</td>\n",
       "      <td>7.874000</td>\n",
       "    </tr>\n",
       "    <tr>\n",
       "      <th>75%</th>\n",
       "      <td>1.420159e+06</td>\n",
       "      <td>0.000000</td>\n",
       "      <td>74.940000</td>\n",
       "      <td>3.735000</td>\n",
       "      <td>212.743293</td>\n",
       "      <td>8.622000</td>\n",
       "    </tr>\n",
       "    <tr>\n",
       "      <th>max</th>\n",
       "      <td>3.818686e+06</td>\n",
       "      <td>1.000000</td>\n",
       "      <td>100.140000</td>\n",
       "      <td>4.468000</td>\n",
       "      <td>227.232807</td>\n",
       "      <td>14.313000</td>\n",
       "    </tr>\n",
       "  </tbody>\n",
       "</table>\n",
       "</div>"
      ],
      "text/plain": [
       "       Weekly_Sales  Holiday_Flag  Temperature   Fuel_Price          CPI  \\\n",
       "count  6.435000e+03   6435.000000  6435.000000  6435.000000  6435.000000   \n",
       "mean   1.046965e+06      0.069930    60.663782     3.358607   171.578394   \n",
       "std    5.643666e+05      0.255049    18.444933     0.459020    39.356712   \n",
       "min    2.099862e+05      0.000000    -2.060000     2.472000   126.064000   \n",
       "25%    5.533501e+05      0.000000    47.460000     2.933000   131.735000   \n",
       "50%    9.607460e+05      0.000000    62.670000     3.445000   182.616521   \n",
       "75%    1.420159e+06      0.000000    74.940000     3.735000   212.743293   \n",
       "max    3.818686e+06      1.000000   100.140000     4.468000   227.232807   \n",
       "\n",
       "       Unemployment  \n",
       "count   6435.000000  \n",
       "mean       7.999151  \n",
       "std        1.875885  \n",
       "min        3.879000  \n",
       "25%        6.891000  \n",
       "50%        7.874000  \n",
       "75%        8.622000  \n",
       "max       14.313000  "
      ]
     },
     "execution_count": 34,
     "metadata": {},
     "output_type": "execute_result"
    }
   ],
   "source": [
    "#Getting basic statistics for every column except for the ID column.\n",
    "df.iloc[:, 1:].describe()"
   ]
  },
  {
   "cell_type": "code",
   "execution_count": 43,
   "id": "74a5b859",
   "metadata": {},
   "outputs": [
    {
     "data": {
      "image/png": "[encoded data removed]",
      "text/plain": [
       "<Figure size 432x288 with 1 Axes>"
      ]
     },
     "metadata": {
      "needs_background": "light"
     },
     "output_type": "display_data"
    }
   ],
   "source": [
    "# Checking for outliers or unusual observations in the data\n",
    "plt.boxplot(df['Weekly_Sales'])\n",
    "plt.show()"
   ]
  },
  {
   "cell_type": "markdown",
   "id": "5590ae0c",
   "metadata": {},
   "source": [
    "The presence of numerous outliers in the data, as depicted by the boxplot, diminishes the effectiveness of the mean as a representative measure. In such cases, it is advisable to utilize a more robust measure of central tendency, such as the trimmed mean. Unlike the mean, which can be heavily influenced by extreme values, the trimmed mean mitigates the impact of outliers by excluding a predetermined proportion of the highest and lowest values from the calculation. By employing the trimmed mean, a more reliable estimate of the central tendency can be obtained, providing a better reflection of the underlying data distribution."
   ]
  },
  {
   "cell_type": "markdown",
   "id": "0ce25c11",
   "metadata": {},
   "source": [
    "## 1.1 Correlation"
   ]
  },
  {
   "cell_type": "code",
   "execution_count": 35,
   "id": "bfcd8dbb",
   "metadata": {},
   "outputs": [
    {
     "data": {
      "image/png": "[encoded data removed]",
      "text/plain": [
       "<Figure size 432x288 with 2 Axes>"
      ]
     },
     "metadata": {
      "needs_background": "light"
     },
     "output_type": "display_data"
    }
   ],
   "source": [
    "# Visualizing the correlation between variables to find useful relations between variables.\n",
    "sns.heatmap(df.corr(), annot=True)\n",
    "plt.show()"
   ]
  },
  {
   "cell_type": "markdown",
   "id": "48953378",
   "metadata": {},
   "source": [
    "#### Results\n",
    "\n",
    "1. The highest correlation of 0.34 between stores and sales suggests that there may be additional factors not included in the analysis that influence sales. Potential factors could include store size, population density in the surrounding area, location, and customer income levels.\n",
    "\n",
    "2. The second largest correlation of -0.3 between CPI (Consumer Price Index) and unemployment aligns with the economic theory known as the Phillips curve. The Phillips curve suggests an inverse relationship between inflation (as measured by CPI) and unemployment, indicating that as one increases, the other decreases.\n",
    "\n",
    "3. Upon initial inspection, there appear to be no strong relationships between variables. However, further analysis and examination of additional variables may be necessary to uncover any hidden or subtle correlations that were not immediately apparent."
   ]
  },
  {
   "cell_type": "markdown",
   "id": "d8fe141c",
   "metadata": {},
   "source": [
    "## 1.2 Sales Analysis"
   ]
  },
  {
   "cell_type": "markdown",
   "id": "b72fef8c",
   "metadata": {},
   "source": [
    "1. Sales in general\n",
    "2. Sales by store\n",
    "3. The best store\n",
    "4. Test Chi na świeta"
   ]
  },
  {
   "cell_type": "code",
   "execution_count": null,
   "id": "26fc448d",
   "metadata": {},
   "outputs": [],
   "source": []
  }
 ],
 "metadata": {
  "kernelspec": {
   "display_name": "Python 3 (ipykernel)",
   "language": "python",
   "name": "python3"
  },
  "language_info": {
   "codemirror_mode": {
    "name": "ipython",
    "version": 3
   },
   "file_extension": ".py",
   "mimetype": "text/x-python",
   "name": "python",
   "nbconvert_exporter": "python",
   "pygments_lexer": "ipython3",
   "version": "3.9.12"
  }
 },
 "nbformat": 4,
 "nbformat_minor": 5
}
